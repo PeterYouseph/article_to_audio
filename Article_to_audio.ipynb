{
  "cells": [
    {
      "cell_type": "code",
      "execution_count": 6,
      "metadata": {
        "colab": {
          "base_uri": "https://localhost:8080/"
        },
        "id": "ZADTZONm3RsH",
        "outputId": "c8e313e2-5e77-447e-db63-89b191ca1400"
      },
      "outputs": [
        {
          "name": "stdout",
          "output_type": "stream",
          "text": [
            "Requirement already satisfied: gTTS in c:\\users\\peter\\anaconda3\\lib\\site-packages (2.4.0)\n",
            "Requirement already satisfied: requests<3,>=2.27 in c:\\users\\peter\\anaconda3\\lib\\site-packages (from gTTS) (2.31.0)\n",
            "Requirement already satisfied: click<8.2,>=7.1 in c:\\users\\peter\\anaconda3\\lib\\site-packages (from gTTS) (8.0.4)\n",
            "Requirement already satisfied: colorama in c:\\users\\peter\\anaconda3\\lib\\site-packages (from click<8.2,>=7.1->gTTS) (0.4.6)\n",
            "Requirement already satisfied: charset-normalizer<4,>=2 in c:\\users\\peter\\anaconda3\\lib\\site-packages (from requests<3,>=2.27->gTTS) (2.0.4)\n",
            "Requirement already satisfied: idna<4,>=2.5 in c:\\users\\peter\\anaconda3\\lib\\site-packages (from requests<3,>=2.27->gTTS) (3.4)\n",
            "Requirement already satisfied: urllib3<3,>=1.21.1 in c:\\users\\peter\\anaconda3\\lib\\site-packages (from requests<3,>=2.27->gTTS) (1.26.16)\n",
            "Requirement already satisfied: certifi>=2017.4.17 in c:\\users\\peter\\anaconda3\\lib\\site-packages (from requests<3,>=2.27->gTTS) (2023.7.22)\n",
            "Note: you may need to restart the kernel to use updated packages.\n",
            "Requirement already satisfied: PyPDF2 in c:\\users\\peter\\anaconda3\\lib\\site-packages (3.0.1)\n",
            "Note: you may need to restart the kernel to use updated packages.\n",
            "Requirement already satisfied: pydub in c:\\users\\peter\\anaconda3\\lib\\site-packages (0.25.1)\n",
            "Note: you may need to restart the kernel to use updated packages.\n",
            "Collecting pyttsx3\n",
            "  Downloading pyttsx3-2.90-py3-none-any.whl (39 kB)\n",
            "Collecting comtypes (from pyttsx3)\n",
            "  Obtaining dependency information for comtypes from https://files.pythonhosted.org/packages/c2/a7/fe4bd49b5c4afa7a7ed3852abda6909e48c00715e6a134e47055381113aa/comtypes-1.2.0-py2.py3-none-any.whl.metadata\n",
            "  Downloading comtypes-1.2.0-py2.py3-none-any.whl.metadata (3.7 kB)\n",
            "Collecting pypiwin32 (from pyttsx3)\n",
            "  Downloading pypiwin32-223-py3-none-any.whl (1.7 kB)\n",
            "Requirement already satisfied: pywin32 in c:\\users\\peter\\anaconda3\\lib\\site-packages (from pyttsx3) (305.1)\n",
            "Downloading comtypes-1.2.0-py2.py3-none-any.whl (184 kB)\n",
            "   ---------------------------------------- 0.0/184.3 kB ? eta -:--:--\n",
            "   -------- ------------------------------- 41.0/184.3 kB 1.9 MB/s eta 0:00:01\n",
            "   --------------------------------- ------ 153.6/184.3 kB 2.3 MB/s eta 0:00:01\n",
            "   ---------------------------------------- 184.3/184.3 kB 1.9 MB/s eta 0:00:00\n",
            "Installing collected packages: comtypes, pypiwin32, pyttsx3\n",
            "Successfully installed comtypes-1.2.0 pypiwin32-223 pyttsx3-2.90\n",
            "Note: you may need to restart the kernel to use updated packages.\n",
            "Collecting SpeechRecognition\n",
            "  Downloading SpeechRecognition-3.10.0-py2.py3-none-any.whl (32.8 MB)\n",
            "     ---------------------------------------- 0.0/32.8 MB ? eta -:--:--\n",
            "     ---------------------------------------- 0.0/32.8 MB ? eta -:--:--\n",
            "     --------------------------------------- 0.0/32.8 MB 435.7 kB/s eta 0:01:16\n",
            "     --------------------------------------- 0.1/32.8 MB 871.5 kB/s eta 0:00:38\n",
            "     ---------------------------------------- 0.3/32.8 MB 1.7 MB/s eta 0:00:20\n",
            "      --------------------------------------- 0.6/32.8 MB 3.1 MB/s eta 0:00:11\n",
            "     - -------------------------------------- 1.5/32.8 MB 6.4 MB/s eta 0:00:05\n",
            "     ---- ----------------------------------- 3.4/32.8 MB 12.0 MB/s eta 0:00:03\n",
            "     ------ --------------------------------- 5.7/32.8 MB 17.3 MB/s eta 0:00:02\n",
            "     ------ --------------------------------- 5.7/32.8 MB 17.3 MB/s eta 0:00:02\n",
            "     ---------- ----------------------------- 8.4/32.8 MB 19.9 MB/s eta 0:00:02\n",
            "     ------------------ -------------------- 15.2/32.8 MB 72.6 MB/s eta 0:00:01\n",
            "     --------------------- ----------------- 18.5/32.8 MB 93.9 MB/s eta 0:00:01\n",
            "     ------------------------- ------------- 21.1/32.8 MB 81.8 MB/s eta 0:00:01\n",
            "     ---------------------------- ---------- 24.0/32.8 MB 65.6 MB/s eta 0:00:01\n",
            "     -------------------------------- ------ 27.3/32.8 MB 65.6 MB/s eta 0:00:01\n",
            "     ------------------------------------ -- 30.5/32.8 MB 65.6 MB/s eta 0:00:01\n",
            "     --------------------------------------  32.8/32.8 MB 73.1 MB/s eta 0:00:01\n",
            "     --------------------------------------  32.8/32.8 MB 73.1 MB/s eta 0:00:01\n",
            "     --------------------------------------  32.8/32.8 MB 73.1 MB/s eta 0:00:01\n",
            "     --------------------------------------- 32.8/32.8 MB 38.6 MB/s eta 0:00:00\n",
            "Requirement already satisfied: requests>=2.26.0 in c:\\users\\peter\\anaconda3\\lib\\site-packages (from SpeechRecognition) (2.31.0)\n",
            "Requirement already satisfied: charset-normalizer<4,>=2 in c:\\users\\peter\\anaconda3\\lib\\site-packages (from requests>=2.26.0->SpeechRecognition) (2.0.4)\n",
            "Requirement already satisfied: idna<4,>=2.5 in c:\\users\\peter\\anaconda3\\lib\\site-packages (from requests>=2.26.0->SpeechRecognition) (3.4)\n",
            "Requirement already satisfied: urllib3<3,>=1.21.1 in c:\\users\\peter\\anaconda3\\lib\\site-packages (from requests>=2.26.0->SpeechRecognition) (1.26.16)\n",
            "Requirement already satisfied: certifi>=2017.4.17 in c:\\users\\peter\\anaconda3\\lib\\site-packages (from requests>=2.26.0->SpeechRecognition) (2023.7.22)\n",
            "Installing collected packages: SpeechRecognition\n",
            "Successfully installed SpeechRecognition-3.10.0\n",
            "Note: you may need to restart the kernel to use updated packages.\n"
          ]
        }
      ],
      "source": [
        "%pip install gTTS\n",
        "%pip install PyPDF2\n",
        "%pip install pydub\n",
        "%pip install pyttsx3\n",
        "%pip install SpeechRecognition"
      ]
    },
    {
      "cell_type": "code",
      "execution_count": 3,
      "metadata": {
        "id": "YjzYz5RI5nvv"
      },
      "outputs": [],
      "source": [
        "import os\n",
        "from PyPDF2 import PdfReader\n",
        "from gtts import gTTS\n",
        "import subprocess\n",
        "import pyttsx3\n",
        "import tkinter as tk\n",
        "from tkinter import filedialog\n"
      ]
    },
    {
      "cell_type": "code",
      "execution_count": 19,
      "metadata": {
        "colab": {
          "base_uri": "https://localhost:8080/",
          "height": 73
        },
        "id": "LhNfJ2bN5v_m",
        "outputId": "59bf2506-19e2-45fc-d7c5-6aac1309e725"
      },
      "outputs": [
        {
          "name": "stdout",
          "output_type": "stream",
          "text": [
            "C:/Users/peter/Downloads/Carta-apresentação-artefact.pdf\n"
          ]
        }
      ],
      "source": [
        "# Open a GUI window to select a file to read from the local file system and store the path to the file\n",
        "\n",
        "root = tk.Tk()\n",
        "root.withdraw()\n",
        "\n",
        "\n",
        "try:\n",
        "    file_path = filedialog.askopenfilename()\n",
        "    print(file_path)\n",
        "except Exception as e:\n",
        "    print(f\"No file selected. Exception thrown. {e}\")\n",
        "# Get the file name\n",
        "\n",
        "file_name = os.path.basename(file_path)"
      ]
    },
    {
      "cell_type": "code",
      "execution_count": 20,
      "metadata": {
        "colab": {
          "base_uri": "https://localhost:8080/"
        },
        "id": "Z3UAfT-P2134",
        "outputId": "a9120f84-6f35-45dd-c7dd-2d09f7a52f60"
      },
      "outputs": [
        {
          "name": "stdout",
          "output_type": "stream",
          "text": [
            "Voice:\n",
            " - ID: HKEY_LOCAL_MACHINE\\SOFTWARE\\Microsoft\\Speech\\Voices\\Tokens\\TTS_MS_PT-BR_MARIA_11.0\n",
            " - Name: Microsoft Maria Desktop - Portuguese(Brazil)\n",
            " - Languages: []\n",
            " - Gender: None\n",
            " - Age: None\n",
            "Voice:\n",
            " - ID: HKEY_LOCAL_MACHINE\\SOFTWARE\\Microsoft\\Speech\\Voices\\Tokens\\TTS_MS_EN-US_ZIRA_11.0\n",
            " - Name: Microsoft Zira Desktop - English (United States)\n",
            " - Languages: []\n",
            " - Gender: None\n",
            " - Age: None\n",
            "Is the article in English?\n"
          ]
        }
      ],
      "source": [
        "try:\n",
        "    # Open the PDF file\n",
        "    with open(file_path, 'rb') as file:\n",
        "        reader = PdfReader(file)\n",
        "\n",
        "        # Initialize an empty string for the text\n",
        "        text = \"\"\n",
        "\n",
        "        # Loop through all the pages and extract the text\n",
        "        for page in reader.pages:\n",
        "            text += page.extract_text()\n",
        "\n",
        "        # Initialize the speech engine\n",
        "        engine = pyttsx3.init()\n",
        "\n",
        "        # Get voices\n",
        "        voices = engine.getProperty('voices')\n",
        "\n",
        "        for voice in voices:\n",
        "            print(\"Voice:\")\n",
        "            print(\" - ID: %s\" % voice.id)\n",
        "            print(\" - Name: %s\" % voice.name)\n",
        "            print(\" - Languages: %s\" % voice.languages)\n",
        "            print(\" - Gender: %s\" % voice.gender)\n",
        "            print(\" - Age: %s\" % voice.age)\n",
        "        \n",
        "        # Check with the user if the article is in English, use the English voice, otherwise use the Portuguese(Brazil) voice:\n",
        "        \n",
        "        print('Is the article in English?')\n",
        "        \n",
        "        answer = input()\n",
        "        if answer == 'yes':\n",
        "            engine.setProperty('voice', voices[1].id)\n",
        "        else:\n",
        "            engine.setProperty('voice', voices[0].id)\n",
        "            \n",
        "        \n",
        "        # Set the speech rate\n",
        "        engine.setProperty('rate', 150)\n",
        "\n",
        "\n",
        "        # Save the speech audio into an MP3 file\n",
        "        engine.save_to_file(text, '{}- 2.mp3'.format(file_name))\n",
        "        engine.runAndWait()\n",
        "\n",
        "\n",
        "except FileNotFoundError:\n",
        "    print(f\"The file '{file_name}' was not found.\")\n",
        "except Exception as e:\n",
        "    print(f\"An error occurred: {e}\")"
      ]
    }
  ],
  "metadata": {
    "colab": {
      "provenance": []
    },
    "kernelspec": {
      "display_name": "Python 3",
      "name": "python3"
    },
    "language_info": {
      "codemirror_mode": {
        "name": "ipython",
        "version": 3
      },
      "file_extension": ".py",
      "mimetype": "text/x-python",
      "name": "python",
      "nbconvert_exporter": "python",
      "pygments_lexer": "ipython3",
      "version": "3.11.5"
    }
  },
  "nbformat": 4,
  "nbformat_minor": 0
}
